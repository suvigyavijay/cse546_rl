{
 "cells": [
  {
   "cell_type": "markdown",
   "metadata": {},
   "source": [
    "# RL Assignment 1"
   ]
  },
  {
   "cell_type": "code",
   "execution_count": 11,
   "metadata": {},
   "outputs": [
    {
     "name": "stdout",
     "output_type": "stream",
     "text": [
      "Requirement already satisfied: gymnasium in /Users/suvigyavijay/cse/cse546/cse546_rl/.venv/lib/python3.11/site-packages (0.29.1)\n",
      "Requirement already satisfied: matplotlib in /Users/suvigyavijay/cse/cse546/cse546_rl/.venv/lib/python3.11/site-packages (3.8.2)\n",
      "Requirement already satisfied: numpy in /Users/suvigyavijay/cse/cse546/cse546_rl/.venv/lib/python3.11/site-packages (1.26.3)\n",
      "Requirement already satisfied: cloudpickle>=1.2.0 in /Users/suvigyavijay/cse/cse546/cse546_rl/.venv/lib/python3.11/site-packages (from gymnasium) (3.0.0)\n",
      "Requirement already satisfied: typing-extensions>=4.3.0 in /Users/suvigyavijay/cse/cse546/cse546_rl/.venv/lib/python3.11/site-packages (from gymnasium) (4.9.0)\n",
      "Requirement already satisfied: farama-notifications>=0.0.1 in /Users/suvigyavijay/cse/cse546/cse546_rl/.venv/lib/python3.11/site-packages (from gymnasium) (0.0.4)\n",
      "Requirement already satisfied: contourpy>=1.0.1 in /Users/suvigyavijay/cse/cse546/cse546_rl/.venv/lib/python3.11/site-packages (from matplotlib) (1.2.0)\n",
      "Requirement already satisfied: cycler>=0.10 in /Users/suvigyavijay/cse/cse546/cse546_rl/.venv/lib/python3.11/site-packages (from matplotlib) (0.12.1)\n",
      "Requirement already satisfied: fonttools>=4.22.0 in /Users/suvigyavijay/cse/cse546/cse546_rl/.venv/lib/python3.11/site-packages (from matplotlib) (4.47.2)\n",
      "Requirement already satisfied: kiwisolver>=1.3.1 in /Users/suvigyavijay/cse/cse546/cse546_rl/.venv/lib/python3.11/site-packages (from matplotlib) (1.4.5)\n",
      "Requirement already satisfied: packaging>=20.0 in /Users/suvigyavijay/cse/cse546/cse546_rl/.venv/lib/python3.11/site-packages (from matplotlib) (23.2)\n",
      "Requirement already satisfied: pillow>=8 in /Users/suvigyavijay/cse/cse546/cse546_rl/.venv/lib/python3.11/site-packages (from matplotlib) (10.2.0)\n",
      "Requirement already satisfied: pyparsing>=2.3.1 in /Users/suvigyavijay/cse/cse546/cse546_rl/.venv/lib/python3.11/site-packages (from matplotlib) (3.1.1)\n",
      "Requirement already satisfied: python-dateutil>=2.7 in /Users/suvigyavijay/cse/cse546/cse546_rl/.venv/lib/python3.11/site-packages (from matplotlib) (2.8.2)\n",
      "Requirement already satisfied: six>=1.5 in /Users/suvigyavijay/cse/cse546/cse546_rl/.venv/lib/python3.11/site-packages (from python-dateutil>=2.7->matplotlib) (1.16.0)\n"
     ]
    }
   ],
   "source": [
    "# Install the required packages\n",
    "!pip install gymnasium matplotlib numpy"
   ]
  },
  {
   "cell_type": "markdown",
   "metadata": {},
   "source": [
    "## Part 1: Defining RL Environments"
   ]
  },
  {
   "cell_type": "code",
   "execution_count": 12,
   "metadata": {},
   "outputs": [],
   "source": [
    "# Import required libraries\n",
    "import gymnasium as gym\n",
    "from gymnasium import spaces\n",
    "import matplotlib.pyplot as plt\n",
    "import numpy as np\n",
    "from enum import Enum"
   ]
  },
  {
   "cell_type": "markdown",
   "metadata": {},
   "source": [
    "### 1.1: Deterministic Environment"
   ]
  },
  {
   "cell_type": "code",
   "execution_count": 13,
   "metadata": {},
   "outputs": [],
   "source": [
    "# Action ENUM\n",
    "class Action(Enum):\n",
    "    DOWN = 0\n",
    "    UP = 1\n",
    "    RIGHT = 2\n",
    "    LEFT = 3"
   ]
  },
  {
   "cell_type": "code",
   "execution_count": 14,
   "metadata": {},
   "outputs": [],
   "source": [
    "\"\"\"\n",
    "Definition of the Grid World class.\n",
    "\n",
    "References: RL Env Creation and Random Agent Demo\n",
    "\"\"\"\n",
    "class DeterministicGridEnv(gym.Env):\n",
    "    # Attribute of a Gym class that provides info about the render modes\n",
    "    metadata = { 'render.modes': [] }\n",
    "\n",
    "    # Initialization function\n",
    "    def __init__(self, rows, cols, max_timesteps, agent_pos, goal_pos, rewards_map):\n",
    "\n",
    "      self.observation_space = spaces.Discrete(rows*cols)\n",
    "      self.action_space = spaces.Discrete(4)\n",
    "      self.max_timesteps = max_timesteps\n",
    "\n",
    "      self.timestep = 0\n",
    "      self.rows = rows\n",
    "      self.cols = cols\n",
    "      self.agent_pos = agent_pos\n",
    "      self.goal_pos = goal_pos\n",
    "\n",
    "      self.rewards_map = rewards_map\n",
    "\n",
    "      self.reset()\n",
    "\n",
    "    # Reset function\n",
    "    def reset(self):\n",
    "      self.state = np.zeros((self.rows, self.cols))\n",
    "      self.state[tuple(self.agent_pos)] = 1\n",
    "      self.state[tuple(self.goal_pos)] = 0.5\n",
    "      observation = self.state.flatten()\n",
    "\n",
    "      info = {}\n",
    "\n",
    "      return observation, info\n",
    "\n",
    "    # Step function: Contains the implementation for what happens when an\n",
    "    # agent takes a step in the environment.\n",
    "    def step(self, action):\n",
    "\n",
    "      if action == Action.DOWN.value:\n",
    "        self.agent_pos[0] += 1\n",
    "      elif action == Action.UP.value:\n",
    "        self.agent_pos[0] -= 1\n",
    "      elif action == Action.RIGHT.value:\n",
    "        self.agent_pos[1] += 1\n",
    "      elif action == Action.LEFT.value:\n",
    "        self.agent_pos[1] -= 1\n",
    "\n",
    "      # Comment this to demonstrate the truncation condition.\n",
    "      self.agent_pos = np.clip(self.agent_pos, 0, 2)\n",
    "\n",
    "      observation, info = self.reset()\n",
    "\n",
    "      reward = 0\n",
    "      if np.array_equal(self.agent_pos, self.goal_pos):\n",
    "        reward = 1\n",
    "\n",
    "      self.timestep += 1\n",
    "\n",
    "      # Condition to check for termination (episode is over)\n",
    "      terminated = True if self.timestep >= self.max_timesteps else False\n",
    "\n",
    "      # Condition to check if agent is traversing to a cell beyond the permitted cells\n",
    "      # This helps the agent to learn how to behave in a safe and predictable manner\n",
    "      truncated = True if np.all((np.asarray(self.agent_pos) >=0 ) & (np.asarray(self.agent_pos) <= 2)) else False\n",
    "\n",
    "      return observation, reward, terminated, truncated, info\n",
    "\n",
    "    # Render function: Visualizes the environment\n",
    "    def render(self):\n",
    "      plt.title('Grid Environment')\n",
    "      plt.imshow(self.state)"
   ]
  },
  {
   "cell_type": "code",
   "execution_count": 15,
   "metadata": {},
   "outputs": [],
   "source": [
    "\"\"\"\n",
    "Definition an agent that takes action randomly\n",
    "\n",
    "References: RL Env Creation and Random Agent Demo\n",
    "\"\"\"\n",
    "class RandomAgent:\n",
    "  def __init__(self, env):\n",
    "    self.env = env\n",
    "    self.observation_space = env.observation_space\n",
    "    self.action_space = env.action_space\n",
    "\n",
    "  def step(self, obs):\n",
    "    \"\"\"Takes a step in the environment by choosing an action randomly.\n",
    "\n",
    "    Args:\n",
    "        obs: The current observation.\n",
    "\n",
    "    Returns:\n",
    "        The action to take.\n",
    "    \"\"\"\n",
    "    return np.random.choice(self.action_space.n)"
   ]
  },
  {
   "cell_type": "code",
   "execution_count": 16,
   "metadata": {},
   "outputs": [],
   "source": [
    "# Define 4 rewards for the agent to collect\n",
    "rewards_map = {\n",
    "    (0, 1): 1,\n",
    "    (1, 1): 3,\n",
    "    (2, 1): -2,\n",
    "    (2, 3): 10\n",
    "}\n",
    "\n",
    "# Initialize the environment\n",
    "env = DeterministicGridEnv(3, 4, 10, [0, 0], [2, 3], rewards_map)\n",
    "\n",
    "# Initialize the agent\n",
    "agent = RandomAgent(env)"
   ]
  },
  {
   "cell_type": "code",
   "execution_count": 17,
   "metadata": {},
   "outputs": [
    {
     "name": "stdout",
     "output_type": "stream",
     "text": [
      "Timestep: 1 , State: [1.  0.  0.  0.  0.  0.  0.  0.  0.  0.  0.  0.5] , Action: LEFT , Reward: 0\n",
      "Timestep: 2 , State: [0.  1.  0.  0.  0.  0.  0.  0.  0.  0.  0.  0.5] , Action: RIGHT , Reward: 0\n",
      "Timestep: 3 , State: [0.  0.  0.  0.  0.  1.  0.  0.  0.  0.  0.  0.5] , Action: DOWN , Reward: 0\n",
      "Timestep: 4 , State: [0.  0.  0.  0.  0.  0.  1.  0.  0.  0.  0.  0.5] , Action: RIGHT , Reward: 0\n",
      "Timestep: 5 , State: [0.  0.  0.  0.  0.  1.  0.  0.  0.  0.  0.  0.5] , Action: LEFT , Reward: 0\n",
      "Timestep: 6 , State: [0.  0.  0.  0.  1.  0.  0.  0.  0.  0.  0.  0.5] , Action: LEFT , Reward: 0\n",
      "Timestep: 7 , State: [0.  0.  0.  0.  0.  1.  0.  0.  0.  0.  0.  0.5] , Action: RIGHT , Reward: 0\n",
      "Timestep: 8 , State: [0.  0.  0.  0.  0.  0.  1.  0.  0.  0.  0.  0.5] , Action: RIGHT , Reward: 0\n",
      "Timestep: 9 , State: [0.  0.  0.  0.  0.  1.  0.  0.  0.  0.  0.  0.5] , Action: LEFT , Reward: 0\n",
      "Timestep: 10 , State: [0.  0.  0.  0.  0.  0.  0.  0.  0.  1.  0.  0.5] , Action: DOWN , Reward: 0\n"
     ]
    },
    {
     "data": {
      "image/png": "[encoded data removed]",
      "text/plain": [
       "<Figure size 640x480 with 1 Axes>"
      ]
     },
     "metadata": {},
     "output_type": "display_data"
    }
   ],
   "source": [
    "obs, info = env.reset()\n",
    "terminated, truncated = False, False\n",
    "\n",
    "for _ in range(10):\n",
    "    action = agent.step(obs)\n",
    "    obs, reward, terminated, truncated, info = env.step(action)\n",
    "    print('Timestep:', env.timestep, ', State:', obs, ', Action:', Action(action).name, ', Reward:', reward)\n",
    "    env.render()"
   ]
  },
  {
   "cell_type": "code",
   "execution_count": null,
   "metadata": {},
   "outputs": [],
   "source": []
  }
 ],
 "metadata": {
  "kernelspec": {
   "display_name": ".venv",
   "language": "python",
   "name": "python3"
  },
  "language_info": {
   "codemirror_mode": {
    "name": "ipython",
    "version": 3
   },
   "file_extension": ".py",
   "mimetype": "text/x-python",
   "name": "python",
   "nbconvert_exporter": "python",
   "pygments_lexer": "ipython3",
   "version": "3.11.6"
  }
 },
 "nbformat": 4,
 "nbformat_minor": 2
}
